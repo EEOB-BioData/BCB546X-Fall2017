{
 "cells": [
  {
   "cell_type": "code",
   "execution_count": 1,
   "metadata": {
    "collapsed": true
   },
   "outputs": [],
   "source": [
    "qual = 'BC?BABABBA@BCBAC>A<4+?BA><B=@?AB@B@A>?BB=B.?7?>1;<??=@A8?8=B8B>?B@46==8863<'"
   ]
  },
  {
   "cell_type": "code",
   "execution_count": 2,
   "metadata": {
    "collapsed": true
   },
   "outputs": [],
   "source": [
    "phred = [ord(b)-33 for b in qual]"
   ]
  },
  {
   "cell_type": "code",
   "execution_count": 3,
   "metadata": {
    "collapsed": false
   },
   "outputs": [
    {
     "data": {
      "text/plain": [
       "[33,\n",
       " 34,\n",
       " 30,\n",
       " 33,\n",
       " 32,\n",
       " 33,\n",
       " 32,\n",
       " 33,\n",
       " 33,\n",
       " 32,\n",
       " 31,\n",
       " 33,\n",
       " 34,\n",
       " 33,\n",
       " 32,\n",
       " 34,\n",
       " 29,\n",
       " 32,\n",
       " 27,\n",
       " 19,\n",
       " 10,\n",
       " 30,\n",
       " 33,\n",
       " 32,\n",
       " 29,\n",
       " 27,\n",
       " 33,\n",
       " 28,\n",
       " 31,\n",
       " 30,\n",
       " 32,\n",
       " 33,\n",
       " 31,\n",
       " 33,\n",
       " 31,\n",
       " 32,\n",
       " 29,\n",
       " 30,\n",
       " 33,\n",
       " 33,\n",
       " 28,\n",
       " 33,\n",
       " 13,\n",
       " 30,\n",
       " 22,\n",
       " 30,\n",
       " 29,\n",
       " 16,\n",
       " 26,\n",
       " 27,\n",
       " 30,\n",
       " 30,\n",
       " 28,\n",
       " 31,\n",
       " 32,\n",
       " 23,\n",
       " 30,\n",
       " 23,\n",
       " 28,\n",
       " 33,\n",
       " 23,\n",
       " 33,\n",
       " 29,\n",
       " 30,\n",
       " 33,\n",
       " 31,\n",
       " 19,\n",
       " 21,\n",
       " 28,\n",
       " 28,\n",
       " 23,\n",
       " 23,\n",
       " 21,\n",
       " 18,\n",
       " 27]"
      ]
     },
     "execution_count": 3,
     "metadata": {},
     "output_type": "execute_result"
    }
   ],
   "source": [
    "phred"
   ]
  },
  {
   "cell_type": "code",
   "execution_count": 4,
   "metadata": {
    "collapsed": true
   },
   "outputs": [],
   "source": [
    "pr_phred = [10**(-q/10) for q in phred]"
   ]
  },
  {
   "cell_type": "code",
   "execution_count": 5,
   "metadata": {
    "collapsed": false
   },
   "outputs": [
    {
     "data": {
      "text/plain": [
       "[0.0005011872336272725,\n",
       " 0.00039810717055349735,\n",
       " 0.001,\n",
       " 0.0005011872336272725,\n",
       " 0.000630957344480193,\n",
       " 0.0005011872336272725,\n",
       " 0.000630957344480193,\n",
       " 0.0005011872336272725,\n",
       " 0.0005011872336272725,\n",
       " 0.000630957344480193,\n",
       " 0.0007943282347242813,\n",
       " 0.0005011872336272725,\n",
       " 0.00039810717055349735,\n",
       " 0.0005011872336272725,\n",
       " 0.000630957344480193,\n",
       " 0.00039810717055349735,\n",
       " 0.0012589254117941675,\n",
       " 0.000630957344480193,\n",
       " 0.001995262314968879,\n",
       " 0.012589254117941675,\n",
       " 0.1,\n",
       " 0.001,\n",
       " 0.0005011872336272725,\n",
       " 0.000630957344480193,\n",
       " 0.0012589254117941675,\n",
       " 0.001995262314968879,\n",
       " 0.0005011872336272725,\n",
       " 0.001584893192461114,\n",
       " 0.0007943282347242813,\n",
       " 0.001,\n",
       " 0.000630957344480193,\n",
       " 0.0005011872336272725,\n",
       " 0.0007943282347242813,\n",
       " 0.0005011872336272725,\n",
       " 0.0007943282347242813,\n",
       " 0.000630957344480193,\n",
       " 0.0012589254117941675,\n",
       " 0.001,\n",
       " 0.0005011872336272725,\n",
       " 0.0005011872336272725,\n",
       " 0.001584893192461114,\n",
       " 0.0005011872336272725,\n",
       " 0.05011872336272722,\n",
       " 0.001,\n",
       " 0.00630957344480193,\n",
       " 0.001,\n",
       " 0.0012589254117941675,\n",
       " 0.025118864315095794,\n",
       " 0.0025118864315095794,\n",
       " 0.001995262314968879,\n",
       " 0.001,\n",
       " 0.001,\n",
       " 0.001584893192461114,\n",
       " 0.0007943282347242813,\n",
       " 0.000630957344480193,\n",
       " 0.005011872336272725,\n",
       " 0.001,\n",
       " 0.005011872336272725,\n",
       " 0.001584893192461114,\n",
       " 0.0005011872336272725,\n",
       " 0.005011872336272725,\n",
       " 0.0005011872336272725,\n",
       " 0.0012589254117941675,\n",
       " 0.001,\n",
       " 0.0005011872336272725,\n",
       " 0.0007943282347242813,\n",
       " 0.012589254117941675,\n",
       " 0.007943282347242814,\n",
       " 0.001584893192461114,\n",
       " 0.001584893192461114,\n",
       " 0.005011872336272725,\n",
       " 0.005011872336272725,\n",
       " 0.007943282347242814,\n",
       " 0.015848931924611134,\n",
       " 0.001995262314968879]"
      ]
     },
     "execution_count": 5,
     "metadata": {},
     "output_type": "execute_result"
    }
   ],
   "source": [
    "pr_phred"
   ]
  },
  {
   "cell_type": "code",
   "execution_count": 6,
   "metadata": {
    "collapsed": true
   },
   "outputs": [],
   "source": [
    "import seaborn as sns\n",
    "%matplotlib inline\n"
   ]
  },
  {
   "cell_type": "code",
   "execution_count": 7,
   "metadata": {
    "collapsed": false
   },
   "outputs": [
    {
     "data": {
      "text/plain": [
       "<matplotlib.axes._subplots.AxesSubplot at 0x114b9d160>"
      ]
     },
     "execution_count": 7,
     "metadata": {},
     "output_type": "execute_result"
    },
    {
     "data": {
      "image/png": "[encoded data removed]",
      "text/plain": [
       "<matplotlib.figure.Figure at 0x114ae42b0>"
      ]
     },
     "metadata": {},
     "output_type": "display_data"
    }
   ],
   "source": [
    "sns.pointplot(x=list(range(len(pr_phred))),y=pr_phred)"
   ]
  },
  {
   "cell_type": "code",
   "execution_count": 8,
   "metadata": {
    "collapsed": false
   },
   "outputs": [
    {
     "data": {
      "text/plain": [
       "<matplotlib.axes._subplots.AxesSubplot at 0x114e03e48>"
      ]
     },
     "execution_count": 8,
     "metadata": {},
     "output_type": "execute_result"
    },
    {
     "data": {
      "image/png": "[encoded data removed]",
      "text/plain": [
       "<matplotlib.figure.Figure at 0x108f99400>"
      ]
     },
     "metadata": {},
     "output_type": "display_data"
    }
   ],
   "source": [
    "sns.distplot(phred)"
   ]
  },
  {
   "cell_type": "code",
   "execution_count": 9,
   "metadata": {
    "collapsed": false
   },
   "outputs": [
    {
     "data": {
      "image/png": "[encoded data removed]",
      "text/plain": [
       "<matplotlib.figure.Figure at 0x115244710>"
      ]
     },
     "metadata": {},
     "output_type": "display_data"
    }
   ],
   "source": [
    "from Bio import SeqIO\n",
    "count = 0\n",
    "for record in SeqIO.parse(\"untreated1_chr4.fq\", \"fastq\"):\n",
    "    sns.distplot(record.letter_annotations[\"phred_quality\"])\n",
    "    count += 1\n",
    "    if count > 8:\n",
    "       break"
   ]
  },
  {
   "cell_type": "code",
   "execution_count": 10,
   "metadata": {
    "collapsed": false
   },
   "outputs": [
    {
     "data": {
      "text/plain": [
       "10"
      ]
     },
     "execution_count": 10,
     "metadata": {},
     "output_type": "execute_result"
    }
   ],
   "source": [
    "min(phred)"
   ]
  },
  {
   "cell_type": "code",
   "execution_count": null,
   "metadata": {
    "collapsed": true
   },
   "outputs": [],
   "source": []
  }
 ],
 "metadata": {
  "kernelspec": {
   "display_name": "Python 3",
   "language": "python",
   "name": "python3"
  },
  "language_info": {
   "codemirror_mode": {
    "name": "ipython",
    "version": 3
   },
   "file_extension": ".py",
   "mimetype": "text/x-python",
   "name": "python",
   "nbconvert_exporter": "python",
   "pygments_lexer": "ipython3",
   "version": "3.6.0"
  }
 },
 "nbformat": 4,
 "nbformat_minor": 2
}
